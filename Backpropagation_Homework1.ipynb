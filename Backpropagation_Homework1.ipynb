{
 "cells": [
  {
   "cell_type": "code",
   "execution_count": 38,
   "metadata": {},
   "outputs": [
    {
     "name": "stdout",
     "output_type": "stream",
     "text": [
      "Please input your input size:3\n",
      "Please input your hidden size:3\n",
      "Please input your data volume:3\n"
     ]
    }
   ],
   "source": [
    "import tensorflow as tf\n",
    "import numpy as np\n",
    "\n",
    "def add_layer(inputs, input_size, output_size, Weights, activation_function=None):\n",
    "    threshold = tf.Variable(tf.zeros([1, output_size]) + 0.1)\n",
    "    Wx_plus_b = tf.matmul(inputs, Weights) + threshold\n",
    "    if activation_function is None:\n",
    "        outputs = Wx_plus_b\n",
    "    else:\n",
    "        outputs = activation_function(Wx_plus_b)\n",
    "    return outputs\n",
    "\n",
    "inputSize = int(input(\"Please input your input size:\"))\n",
    "hiddenSize = int(input(\"Please input your hidden size:\"))\n",
    "dataVolume = int(input(\"Please input your data volume:\"))"
   ]
  },
  {
   "cell_type": "code",
   "execution_count": 39,
   "metadata": {},
   "outputs": [
    {
     "name": "stdout",
     "output_type": "stream",
     "text": [
      "wX:\n",
      "<tf.Variable 'Variable:0' shape=(3, 3) dtype=float32, numpy=\n",
      "array([[-0.76434284, -1.9237727 ,  1.0658817 ],\n",
      "       [-0.71857756,  0.6574851 ,  1.0507333 ],\n",
      "       [ 1.3165313 , -0.30170473, -0.79438394]], dtype=float32)>\n",
      "wY:\n",
      "<tf.Variable 'Variable:0' shape=(3, 1) dtype=float32, numpy=\n",
      "array([[-1.1792617 ],\n",
      "       [ 1.1059905 ],\n",
      "       [ 0.20937468]], dtype=float32)>\n"
     ]
    }
   ],
   "source": [
    "#x_data = 2 * np.random.random_sample((dataVolume, inputSize)) -1\n",
    "#y_data = np.random.rand() \n",
    "#xs = tf.placeholder(tf.float32, [dataVolume, inputSize])\n",
    "#yc = tf.placeholder(tf.float32) \n",
    "x_data = tf.convert_to_tensor(2 * np.random.random_sample((dataVolume, inputSize)) -1, np.float32)\n",
    "y_data = tf.convert_to_tensor(2 * np.random.random_sample((dataVolume, inputSize)) -1, np.float32)\n",
    "WeightsX = tf.Variable(tf.random.normal([inputSize, hiddenSize]))\n",
    "WeightsY = tf.Variable(tf.random.normal([hiddenSize, 1]))\n",
    "\n",
    "print('wX:')\n",
    "print(WeightsX)\n",
    "print('wY:')\n",
    "print(WeightsY)"
   ]
  },
  {
   "cell_type": "code",
   "execution_count": 40,
   "metadata": {},
   "outputs": [],
   "source": [
    "#hiddenLayer = add_layer(xs, inputSize, hiddenSize, activation_function = tf.tanh)\n",
    "#outputLayer = add_layer(hiddenLayer, hiddenSize, 1, activation_function = None)\n",
    "#error = tf.reduce_mean(tf.reduce_sum(tf.square(yc - outputLayer), reduction_indices=[1]))\n",
    "#train = tf.train.GradientDescentOptimizer(0.1).minimize(error)\n",
    "#init = tf.initialize_all_variables()\n",
    "\n",
    "#sess = tf.Session()\n",
    "#sess.run(init)\n",
    "# for i in range(500):\n",
    "    # training\n",
    "#sess.run(train, feed_dict={xs: x_data, yc: y_data})\n",
    "#sess.close()\n",
    "optimizer=tf.optimizers.SGD(0.1)\n",
    "\n",
    "for i in range(500):\n",
    "    with tf.GradientTape() as tape:\n",
    "        hiddenLayer = add_layer(x_data, inputSize, hiddenSize, WeightsX, activation_function = tf.tanh)\n",
    "        outputLayer = add_layer(hiddenLayer, hiddenSize, 1, WeightsY, activation_function = None)\n",
    "        error = tf.reduce_mean(tf.reduce_sum(tf.square(y_data - outputLayer), axis=1))\n",
    "    gradients = tape.gradient(error, [WeightsX, WeightsY])\n",
    "    optimizer.apply_gradients(zip(gradients, [WeightsX, WeightsY]))"
   ]
  },
  {
   "cell_type": "code",
   "execution_count": 41,
   "metadata": {},
   "outputs": [
    {
     "name": "stdout",
     "output_type": "stream",
     "text": [
      "wX:\n",
      "<tf.Variable 'Variable:0' shape=(3, 3) dtype=float32, numpy=\n",
      "array([[-1.0573514 , -1.897516  ,  1.1041831 ],\n",
      "       [-0.44153225,  0.34010452,  1.0275217 ],\n",
      "       [ 1.0545204 , -0.01358812, -0.7420094 ]], dtype=float32)>\n",
      "wY:\n",
      "<tf.Variable 'Variable:0' shape=(3, 1) dtype=float32, numpy=\n",
      "array([[-0.4893577 ],\n",
      "       [ 0.2656052 ],\n",
      "       [-0.31165978]], dtype=float32)>\n"
     ]
    }
   ],
   "source": [
    "print('wX:')\n",
    "print(WeightsX)\n",
    "print('wY:')\n",
    "print(WeightsY)"
   ]
  },
  {
   "cell_type": "code",
   "execution_count": null,
   "metadata": {},
   "outputs": [],
   "source": []
  }
 ],
 "metadata": {
  "kernelspec": {
   "display_name": "Python 3",
   "language": "python",
   "name": "python3"
  },
  "language_info": {
   "codemirror_mode": {
    "name": "ipython",
    "version": 3
   },
   "file_extension": ".py",
   "mimetype": "text/x-python",
   "name": "python",
   "nbconvert_exporter": "python",
   "pygments_lexer": "ipython3",
   "version": "3.7.3"
  }
 },
 "nbformat": 4,
 "nbformat_minor": 2
}
